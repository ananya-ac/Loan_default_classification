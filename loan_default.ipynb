{
 "cells": [
  {
   "cell_type": "code",
   "execution_count": 1,
   "id": "727f994c-7989-46c5-9c28-7dfea1c9ed74",
   "metadata": {},
   "outputs": [],
   "source": [
    "import numpy as np\n",
    "import pandas as pd\n",
    "from sklearn.linear_model import RidgeClassifier\n",
    "from sklearn.preprocessing import OneHotEncoder\n",
    "from sklearn.compose import make_column_transformer"
   ]
  },
  {
   "cell_type": "code",
   "execution_count": 2,
   "id": "23d64ad0-98f1-46a2-8765-6f336f2e8789",
   "metadata": {
    "tags": []
   },
   "outputs": [],
   "source": [
    "app_df=pd.read_csv('applicant.csv')\n",
    "loan_df=pd.read_csv('loan.csv')"
   ]
  },
  {
   "cell_type": "code",
   "execution_count": 3,
   "id": "8f02a4fb-c666-45a5-96c7-698e81b73e70",
   "metadata": {},
   "outputs": [],
   "source": [
    "loandata_df=pd.merge(app_df,loan_df,on='applicant_id')"
   ]
  },
  {
   "cell_type": "markdown",
   "id": "3679e13b-885b-4f3f-ada5-9e65500fd976",
   "metadata": {
    "tags": []
   },
   "source": [
    "# Data Cleaning, dealing with null values"
   ]
  },
  {
   "cell_type": "code",
   "execution_count": 4,
   "id": "d5a26c19-076a-46d1-a95f-a9d6faba0487",
   "metadata": {
    "tags": []
   },
   "outputs": [
    {
     "data": {
      "text/plain": [
       "applicant_id                                                  0\n",
       "Primary_applicant_age_in_years                                0\n",
       "Gender                                                        0\n",
       "Marital_status                                                0\n",
       "Number_of_dependents                                          0\n",
       "Housing                                                       0\n",
       "Years_at_current_residence                                    0\n",
       "Employment_status                                             0\n",
       "Has_been_employed_for_at_least                               62\n",
       "Has_been_employed_for_at_most                               253\n",
       "Telephone                                                   596\n",
       "Foreign_worker                                                0\n",
       "Savings_account_balance                                     183\n",
       "Balance_in_existing_bank_account_(lower_limit_of_bucket)    668\n",
       "Balance_in_existing_bank_account_(upper_limit_of_bucket)    457\n",
       "loan_application_id                                           0\n",
       "Months_loan_taken_for                                         0\n",
       "Purpose                                                      12\n",
       "Principal_loan_amount                                         0\n",
       "EMI_rate_in_percentage_of_disposable_income                   0\n",
       "Property                                                    154\n",
       "Has_coapplicant                                               0\n",
       "Has_guarantor                                                 0\n",
       "Other_EMI_plans                                             814\n",
       "Number_of_existing_loans_at_this_bank                         0\n",
       "Loan_history                                                  0\n",
       "high_risk_applicant                                           0\n",
       "dtype: int64"
      ]
     },
     "execution_count": 4,
     "metadata": {},
     "output_type": "execute_result"
    }
   ],
   "source": [
    "loandata_df.isnull().sum()"
   ]
  },
  {
   "cell_type": "markdown",
   "id": "699020f5-9826-46c5-9d71-e1025b6de86d",
   "metadata": {},
   "source": [
    "### Columns with 50% or more null data will be dropped"
   ]
  },
  {
   "cell_type": "code",
   "execution_count": 5,
   "id": "ab9d32e0-1a39-4ef6-9da0-b52ed305b342",
   "metadata": {},
   "outputs": [],
   "source": [
    "loandata_df.drop('Other_EMI_plans', axis='columns',inplace=True)"
   ]
  },
  {
   "cell_type": "code",
   "execution_count": 15,
   "id": "8055d690-18cb-4cd9-a732-031696868d0a",
   "metadata": {},
   "outputs": [],
   "source": [
    "loandata_df.drop('Telephone',axis='columns',inplace=True)"
   ]
  },
  {
   "cell_type": "code",
   "execution_count": 17,
   "id": "939234c1-8b2e-4d62-8f08-72c50e413559",
   "metadata": {},
   "outputs": [],
   "source": [
    "loandata_df.drop(['Balance_in_existing_bank_account_(lower_limit_of_bucket)','Balance_in_existing_bank_account_(upper_limit_of_bucket)'],\n",
    "                 axis='columns',inplace=True)"
   ]
  },
  {
   "cell_type": "markdown",
   "id": "1c702f9e-d550-4e83-9452-a6467b5dda12",
   "metadata": {},
   "source": [
    "### Preprocessing Columns with String inputs which should be read as float inputs"
   ]
  },
  {
   "cell_type": "code",
   "execution_count": 7,
   "id": "9e8c197a-b9d7-4bb9-bd08-fbcfee75d013",
   "metadata": {},
   "outputs": [],
   "source": [
    "def remove_years(string):\n",
    "    if type(string) is float:\n",
    "        return np.nan\n",
    "    return int(string.split()[0])"
   ]
  },
  {
   "cell_type": "code",
   "execution_count": 8,
   "id": "ff3bd068-b398-4b39-9c24-5ddcf2f24e6b",
   "metadata": {},
   "outputs": [],
   "source": [
    "loandata_df['Has_been_employed_for_at_least']=loandata_df['Has_been_employed_for_at_least'].apply(func=remove_years)"
   ]
  },
  {
   "cell_type": "code",
   "execution_count": 9,
   "id": "1b8a2d3b-575a-4e32-9eba-b5473c72cb7e",
   "metadata": {},
   "outputs": [],
   "source": [
    "loandata_df['Has_been_employed_for_at_most']=loandata_df['Has_been_employed_for_at_most'].apply(func=remove_years)"
   ]
  },
  {
   "cell_type": "markdown",
   "id": "630bfdcd-cd42-4afb-8b41-bf9fc6864006",
   "metadata": {},
   "source": [
    "### Imputing Data for Columns with very few null values"
   ]
  },
  {
   "cell_type": "code",
   "execution_count": 11,
   "id": "2bccc2ca-ff43-4b88-b20d-e8b2a34f34ec",
   "metadata": {},
   "outputs": [],
   "source": [
    "loandata_df['Has_been_employed_for_at_least'].fillna(loandata_df['Has_been_employed_for_at_least'].median(),inplace=True)"
   ]
  },
  {
   "cell_type": "code",
   "execution_count": 12,
   "id": "f362f99a-3440-4450-860e-3375bff2c9e7",
   "metadata": {},
   "outputs": [],
   "source": [
    "loandata_df['Has_been_employed_for_at_most'].fillna(loandata_df['Has_been_employed_for_at_most'].median(),inplace=True)"
   ]
  },
  {
   "cell_type": "code",
   "execution_count": 13,
   "id": "551d2945-4dec-4acb-a0ef-fcf1068cccd1",
   "metadata": {},
   "outputs": [],
   "source": [
    "loandata_df['Savings_account_balance'].fillna(loandata_df['Savings_account_balance'].mode(),inplace=True)"
   ]
  },
  {
   "cell_type": "code",
   "execution_count": 16,
   "id": "549e4411-106c-41a7-8528-9b335406aab4",
   "metadata": {
    "tags": []
   },
   "outputs": [],
   "source": [
    "loandata_df['Property'].fillna(loandata_df['Property'].mode().iloc[0],inplace=True)"
   ]
  },
  {
   "cell_type": "markdown",
   "id": "abb2dcce-ef30-41c4-97de-62b61e7eb3fe",
   "metadata": {},
   "source": [
    "### Removing Rows where Purpose is a null value (only 12 rows)"
   ]
  },
  {
   "cell_type": "code",
   "execution_count": 14,
   "id": "3693d094-208b-476b-b94a-ae3f5bfabbf6",
   "metadata": {},
   "outputs": [],
   "source": [
    "loandata_df=loandata_df[loandata_df['Purpose'].notna()]"
   ]
  },
  {
   "cell_type": "markdown",
   "id": "e0c82d11-3fa4-4a69-8346-93468380916e",
   "metadata": {},
   "source": [
    "### Removing remaining null values "
   ]
  },
  {
   "cell_type": "markdown",
   "id": "fd7c9e95-d3a2-470c-8115-dea8fc081c9e",
   "metadata": {},
   "source": [
    " As this does not cause a class imbalance in the target variable, with the ratio of defaulters to non defaulters roughly the same as the original dataset, this is an acceptable view of the data for analysis"
   ]
  },
  {
   "cell_type": "code",
   "execution_count": null,
   "id": "bd61ede3-dd09-4e60-9c2a-52ee6a6ba915",
   "metadata": {},
   "outputs": [],
   "source": [
    "loandata_df.dropna(inplace=True)"
   ]
  },
  {
   "cell_type": "code",
   "execution_count": 19,
   "id": "01025c74-8d4e-490f-84bf-1510c026bb06",
   "metadata": {},
   "outputs": [
    {
     "data": {
      "text/plain": [
       "applicant_id                                   0\n",
       "Primary_applicant_age_in_years                 0\n",
       "Gender                                         0\n",
       "Marital_status                                 0\n",
       "Number_of_dependents                           0\n",
       "Housing                                        0\n",
       "Years_at_current_residence                     0\n",
       "Employment_status                              0\n",
       "Has_been_employed_for_at_least                 0\n",
       "Has_been_employed_for_at_most                  0\n",
       "Foreign_worker                                 0\n",
       "Savings_account_balance                        0\n",
       "loan_application_id                            0\n",
       "Months_loan_taken_for                          0\n",
       "Purpose                                        0\n",
       "Principal_loan_amount                          0\n",
       "EMI_rate_in_percentage_of_disposable_income    0\n",
       "Property                                       0\n",
       "Has_coapplicant                                0\n",
       "Has_guarantor                                  0\n",
       "Number_of_existing_loans_at_this_bank          0\n",
       "Loan_history                                   0\n",
       "high_risk_applicant                            0\n",
       "dtype: int64"
      ]
     },
     "execution_count": 19,
     "metadata": {},
     "output_type": "execute_result"
    }
   ],
   "source": [
    "loandata_df.isnull().sum()"
   ]
  },
  {
   "cell_type": "markdown",
   "id": "a662f471-4fd9-460d-94c0-4d5c19ef86d7",
   "metadata": {},
   "source": [
    "# Pre-processing for categorical variables"
   ]
  },
  {
   "cell_type": "code",
   "execution_count": 21,
   "id": "8631bb47-cfc6-4d02-94f9-b5b5bdb332d0",
   "metadata": {},
   "outputs": [],
   "source": [
    "y=loandata_df.high_risk_applicant\n",
    "X=loandata_df.drop(['applicant_id','loan_application_id','high_risk_applicant'],axis='columns')"
   ]
  },
  {
   "cell_type": "code",
   "execution_count": 22,
   "id": "288de27b-2735-417a-9568-8b1ec9d0e322",
   "metadata": {},
   "outputs": [],
   "source": [
    "ohe=OneHotEncoder()"
   ]
  },
  {
   "cell_type": "code",
   "execution_count": 23,
   "id": "88834fd6-1292-4b9f-ad8c-6dfa177d3de9",
   "metadata": {},
   "outputs": [],
   "source": [
    "col_trans=make_column_transformer( (OneHotEncoder(),['Gender','Marital_status','Housing','Employment_status',\n",
    "                                                     'Savings_account_balance','Purpose',\n",
    "                                                     'Property','Loan_history']) \n",
    "                                                      , remainder='passthrough')"
   ]
  },
  {
   "cell_type": "code",
   "execution_count": 24,
   "id": "aed2405d-86b1-4fbd-b583-74e14048402c",
   "metadata": {},
   "outputs": [],
   "source": [
    "X_t=col_trans.fit_transform(X)"
   ]
  },
  {
   "cell_type": "markdown",
   "id": "f4a57ce4-5296-471c-84a5-6992ad59bf58",
   "metadata": {},
   "source": [
    "# Training a regularized Logistic Regression Model"
   ]
  },
  {
   "cell_type": "markdown",
   "id": "8d155f5a-5c78-463e-be1d-5afd4b32361a",
   "metadata": {},
   "source": [
    "The Rationale behind using a regularized Logistic Regression framework is that the regularization will force most coefficients associated with the features will be close to 0, but the features that strongly affect the target value will have high or low coeffecients, so its easy to segment which features are more important "
   ]
  },
  {
   "cell_type": "code",
   "execution_count": 25,
   "id": "fa90e283-b90a-41e7-a4dd-b839ab2dd567",
   "metadata": {},
   "outputs": [],
   "source": [
    "logreg_ridged=RidgeClassifier(class_weight={0:0.2,1:0.8})"
   ]
  },
  {
   "cell_type": "code",
   "execution_count": 26,
   "id": "cb15528c-da4f-4d90-bdd7-c2f19e75a49b",
   "metadata": {},
   "outputs": [
    {
     "data": {
      "text/html": [
       "<style>#sk-container-id-1 {color: black;background-color: white;}#sk-container-id-1 pre{padding: 0;}#sk-container-id-1 div.sk-toggleable {background-color: white;}#sk-container-id-1 label.sk-toggleable__label {cursor: pointer;display: block;width: 100%;margin-bottom: 0;padding: 0.3em;box-sizing: border-box;text-align: center;}#sk-container-id-1 label.sk-toggleable__label-arrow:before {content: \"▸\";float: left;margin-right: 0.25em;color: #696969;}#sk-container-id-1 label.sk-toggleable__label-arrow:hover:before {color: black;}#sk-container-id-1 div.sk-estimator:hover label.sk-toggleable__label-arrow:before {color: black;}#sk-container-id-1 div.sk-toggleable__content {max-height: 0;max-width: 0;overflow: hidden;text-align: left;background-color: #f0f8ff;}#sk-container-id-1 div.sk-toggleable__content pre {margin: 0.2em;color: black;border-radius: 0.25em;background-color: #f0f8ff;}#sk-container-id-1 input.sk-toggleable__control:checked~div.sk-toggleable__content {max-height: 200px;max-width: 100%;overflow: auto;}#sk-container-id-1 input.sk-toggleable__control:checked~label.sk-toggleable__label-arrow:before {content: \"▾\";}#sk-container-id-1 div.sk-estimator input.sk-toggleable__control:checked~label.sk-toggleable__label {background-color: #d4ebff;}#sk-container-id-1 div.sk-label input.sk-toggleable__control:checked~label.sk-toggleable__label {background-color: #d4ebff;}#sk-container-id-1 input.sk-hidden--visually {border: 0;clip: rect(1px 1px 1px 1px);clip: rect(1px, 1px, 1px, 1px);height: 1px;margin: -1px;overflow: hidden;padding: 0;position: absolute;width: 1px;}#sk-container-id-1 div.sk-estimator {font-family: monospace;background-color: #f0f8ff;border: 1px dotted black;border-radius: 0.25em;box-sizing: border-box;margin-bottom: 0.5em;}#sk-container-id-1 div.sk-estimator:hover {background-color: #d4ebff;}#sk-container-id-1 div.sk-parallel-item::after {content: \"\";width: 100%;border-bottom: 1px solid gray;flex-grow: 1;}#sk-container-id-1 div.sk-label:hover label.sk-toggleable__label {background-color: #d4ebff;}#sk-container-id-1 div.sk-serial::before {content: \"\";position: absolute;border-left: 1px solid gray;box-sizing: border-box;top: 0;bottom: 0;left: 50%;z-index: 0;}#sk-container-id-1 div.sk-serial {display: flex;flex-direction: column;align-items: center;background-color: white;padding-right: 0.2em;padding-left: 0.2em;position: relative;}#sk-container-id-1 div.sk-item {position: relative;z-index: 1;}#sk-container-id-1 div.sk-parallel {display: flex;align-items: stretch;justify-content: center;background-color: white;position: relative;}#sk-container-id-1 div.sk-item::before, #sk-container-id-1 div.sk-parallel-item::before {content: \"\";position: absolute;border-left: 1px solid gray;box-sizing: border-box;top: 0;bottom: 0;left: 50%;z-index: -1;}#sk-container-id-1 div.sk-parallel-item {display: flex;flex-direction: column;z-index: 1;position: relative;background-color: white;}#sk-container-id-1 div.sk-parallel-item:first-child::after {align-self: flex-end;width: 50%;}#sk-container-id-1 div.sk-parallel-item:last-child::after {align-self: flex-start;width: 50%;}#sk-container-id-1 div.sk-parallel-item:only-child::after {width: 0;}#sk-container-id-1 div.sk-dashed-wrapped {border: 1px dashed gray;margin: 0 0.4em 0.5em 0.4em;box-sizing: border-box;padding-bottom: 0.4em;background-color: white;}#sk-container-id-1 div.sk-label label {font-family: monospace;font-weight: bold;display: inline-block;line-height: 1.2em;}#sk-container-id-1 div.sk-label-container {text-align: center;}#sk-container-id-1 div.sk-container {/* jupyter's `normalize.less` sets `[hidden] { display: none; }` but bootstrap.min.css set `[hidden] { display: none !important; }` so we also need the `!important` here to be able to override the default hidden behavior on the sphinx rendered scikit-learn.org. See: https://github.com/scikit-learn/scikit-learn/issues/21755 */display: inline-block !important;position: relative;}#sk-container-id-1 div.sk-text-repr-fallback {display: none;}</style><div id=\"sk-container-id-1\" class=\"sk-top-container\"><div class=\"sk-text-repr-fallback\"><pre>RidgeClassifier(class_weight={0: 0.2, 1: 0.8})</pre><b>In a Jupyter environment, please rerun this cell to show the HTML representation or trust the notebook. <br />On GitHub, the HTML representation is unable to render, please try loading this page with nbviewer.org.</b></div><div class=\"sk-container\" hidden><div class=\"sk-item\"><div class=\"sk-estimator sk-toggleable\"><input class=\"sk-toggleable__control sk-hidden--visually\" id=\"sk-estimator-id-1\" type=\"checkbox\" checked><label for=\"sk-estimator-id-1\" class=\"sk-toggleable__label sk-toggleable__label-arrow\">RidgeClassifier</label><div class=\"sk-toggleable__content\"><pre>RidgeClassifier(class_weight={0: 0.2, 1: 0.8})</pre></div></div></div></div></div>"
      ],
      "text/plain": [
       "RidgeClassifier(class_weight={0: 0.2, 1: 0.8})"
      ]
     },
     "execution_count": 26,
     "metadata": {},
     "output_type": "execute_result"
    }
   ],
   "source": [
    "logreg_ridged.fit(X_t,y)"
   ]
  },
  {
   "cell_type": "code",
   "execution_count": 27,
   "id": "f54a531c-14df-4fc9-b549-0ba808bb0880",
   "metadata": {},
   "outputs": [
    {
     "data": {
      "text/plain": [
       "array([[-1.52164349e-02,  1.52164349e-02,  1.94472227e-01,\n",
       "        -1.52164349e-02, -1.54517835e-02, -1.63804008e-01,\n",
       "         3.53400383e-02, -9.54087093e-02,  6.00686710e-02,\n",
       "         3.36381042e-03,  2.22720373e-02, -1.06802757e-01,\n",
       "         8.11669096e-02, -4.66588408e-02,  2.47560639e-01,\n",
       "         4.44185093e-02, -2.45320307e-01, -6.71116429e-04,\n",
       "        -9.35323557e-02, -2.59845122e-01,  1.11223158e-01,\n",
       "         3.25079384e-01, -1.23712828e-01,  2.26246533e-01,\n",
       "         2.06712387e-01, -3.91500040e-01,  5.85460253e-02,\n",
       "         2.15197038e-02, -8.00657291e-02,  3.31801865e-01,\n",
       "        -4.27595023e-01, -5.21889637e-02, -4.56649591e-02,\n",
       "         1.93647081e-01, -6.46330898e-03,  9.25485783e-02,\n",
       "         1.58657204e-02, -3.39625190e-03, -5.08725383e-02,\n",
       "         3.19839361e-01,  1.57897798e-02,  2.55646708e-08,\n",
       "         9.75400584e-02,  2.44600292e-01, -2.09427329e-01,\n",
       "         1.10661293e-01]])"
      ]
     },
     "execution_count": 27,
     "metadata": {},
     "output_type": "execute_result"
    }
   ],
   "source": [
    "logreg_ridged.coef_"
   ]
  },
  {
   "cell_type": "code",
   "execution_count": 35,
   "id": "a5cb4394-5764-4f9d-a8fe-8276056cb835",
   "metadata": {},
   "outputs": [],
   "source": [
    "ranked_features=np.argsort(logreg_ridged.coef_)"
   ]
  },
  {
   "cell_type": "code",
   "execution_count": 39,
   "id": "24946bcf-650e-494f-ae0d-330d7bb322f2",
   "metadata": {},
   "outputs": [
    {
     "data": {
      "text/plain": [
       "array([[30, 25, 19, 16, 44,  5, 22, 11,  7, 18, 28, 31, 38, 13, 32,  4,\n",
       "         3,  0, 34, 37, 17, 41,  9,  1, 40, 36, 27, 10,  6, 15, 26,  8,\n",
       "        12, 35, 42, 45, 20, 33,  2, 24, 23, 43, 14, 39, 21, 29]],\n",
       "      dtype=int64)"
      ]
     },
     "execution_count": 39,
     "metadata": {},
     "output_type": "execute_result"
    }
   ],
   "source": [
    "ranked_features"
   ]
  },
  {
   "cell_type": "markdown",
   "id": "45e2a180-cb8e-4c88-8abe-e024356d5274",
   "metadata": {},
   "source": [
    "### Top 3 segments"
   ]
  },
  {
   "cell_type": "code",
   "execution_count": 44,
   "id": "5d888f88-5ee3-4116-83a2-7b89262fb1f5",
   "metadata": {},
   "outputs": [
    {
     "data": {
      "text/plain": [
       "'onehotencoder__Loan_history_all loans at this bank paid back duly'"
      ]
     },
     "execution_count": 44,
     "metadata": {},
     "output_type": "execute_result"
    }
   ],
   "source": [
    "col_trans.get_feature_names_out()[29]"
   ]
  },
  {
   "cell_type": "code",
   "execution_count": 45,
   "id": "e55ac1c8-a76e-4455-91c3-e84c39c4bacb",
   "metadata": {},
   "outputs": [
    {
     "data": {
      "text/plain": [
       "'onehotencoder__Purpose_education'"
      ]
     },
     "execution_count": 45,
     "metadata": {},
     "output_type": "execute_result"
    }
   ],
   "source": [
    "col_trans.get_feature_names_out()[21]"
   ]
  },
  {
   "cell_type": "code",
   "execution_count": 46,
   "id": "4f4bf7ec-159e-43b3-8bf4-563a12d1e813",
   "metadata": {},
   "outputs": [
    {
     "data": {
      "text/plain": [
       "'remainder__Foreign_worker'"
      ]
     },
     "execution_count": 46,
     "metadata": {},
     "output_type": "execute_result"
    }
   ],
   "source": [
    "col_trans.get_feature_names_out()[39]"
   ]
  },
  {
   "cell_type": "markdown",
   "id": "552debfa-186b-4481-8062-e2550e6e8ae3",
   "metadata": {},
   "source": [
    "### Bottom 3 segments"
   ]
  },
  {
   "cell_type": "code",
   "execution_count": 49,
   "id": "54209d52-64fc-445a-ab71-257c78da478a",
   "metadata": {},
   "outputs": [
    {
     "data": {
      "text/plain": [
       "'onehotencoder__Loan_history_critical/pending loans at other banks'"
      ]
     },
     "execution_count": 49,
     "metadata": {},
     "output_type": "execute_result"
    }
   ],
   "source": [
    "col_trans.get_feature_names_out()[30]"
   ]
  },
  {
   "cell_type": "code",
   "execution_count": 50,
   "id": "8634152a-ba9f-47bb-a03a-25892e40606b",
   "metadata": {},
   "outputs": [
    {
     "data": {
      "text/plain": [
       "'onehotencoder__Purpose_used vehicle'"
      ]
     },
     "execution_count": 50,
     "metadata": {},
     "output_type": "execute_result"
    }
   ],
   "source": [
    "col_trans.get_feature_names_out()[25]"
   ]
  },
  {
   "cell_type": "code",
   "execution_count": 51,
   "id": "a8f5768b-6bc3-4d63-9939-9eab4d137904",
   "metadata": {},
   "outputs": [
    {
     "data": {
      "text/plain": [
       "'onehotencoder__Purpose_career development'"
      ]
     },
     "execution_count": 51,
     "metadata": {},
     "output_type": "execute_result"
    }
   ],
   "source": [
    "col_trans.get_feature_names_out()[19]"
   ]
  },
  {
   "cell_type": "markdown",
   "id": "0e78fdd8-a273-43f7-903c-bf36bf5179be",
   "metadata": {},
   "source": [
    "Therefore, top 3 segments who would be considered credit worthy would be: 1) customers who have paid all their loans at the bank they're taking the loan from, 2) If the loan is for education purposes and 3) If they are a foreign Worker.\n",
    "\n",
    "Whereas, segments that would not be deemed credit worthy would be, 1) customers who have critical or pending loans at other banks, 2) If the loan is for a used Vehicle, 3) if the loan is for the purposes of career development"
   ]
  },
  {
   "cell_type": "code",
   "execution_count": null,
   "id": "9817906c-0988-48d0-a0a9-ce44b646c829",
   "metadata": {},
   "outputs": [],
   "source": []
  }
 ],
 "metadata": {
  "kernelspec": {
   "display_name": "Python 3 (ipykernel)",
   "language": "python",
   "name": "python3"
  },
  "language_info": {
   "codemirror_mode": {
    "name": "ipython",
    "version": 3
   },
   "file_extension": ".py",
   "mimetype": "text/x-python",
   "name": "python",
   "nbconvert_exporter": "python",
   "pygments_lexer": "ipython3",
   "version": "3.10.4"
  }
 },
 "nbformat": 4,
 "nbformat_minor": 5
}
